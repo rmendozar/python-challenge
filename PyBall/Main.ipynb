{
 "cells": [
  {
   "cell_type": "code",
   "execution_count": 1,
   "metadata": {},
   "outputs": [],
   "source": [
    "# You will be give a set of poll data called election_data.csv. \n",
    "# The dataset is composed of three columns: Voter ID, County, and Candidate. \n",
    "# Your task is to create a Python script that analyzes the votes and calculates each of the following:\n",
    "\n",
    "# Dependencies\n",
    "import pandas as pd\n",
    "import numpy as np\n",
    "import os\n",
    "\n"
   ]
  },
  {
   "cell_type": "code",
   "execution_count": 2,
   "metadata": {},
   "outputs": [
    {
     "data": {
      "text/html": [
       "<div>\n",
       "<style scoped>\n",
       "    .dataframe tbody tr th:only-of-type {\n",
       "        vertical-align: middle;\n",
       "    }\n",
       "\n",
       "    .dataframe tbody tr th {\n",
       "        vertical-align: top;\n",
       "    }\n",
       "\n",
       "    .dataframe thead th {\n",
       "        text-align: right;\n",
       "    }\n",
       "</style>\n",
       "<table border=\"1\" class=\"dataframe\">\n",
       "  <thead>\n",
       "    <tr style=\"text-align: right;\">\n",
       "      <th></th>\n",
       "      <th>Votes</th>\n",
       "      <th>County</th>\n",
       "      <th>Candidate</th>\n",
       "    </tr>\n",
       "  </thead>\n",
       "  <tbody>\n",
       "    <tr>\n",
       "      <td>0</td>\n",
       "      <td>12864552</td>\n",
       "      <td>Marsh</td>\n",
       "      <td>Khan</td>\n",
       "    </tr>\n",
       "    <tr>\n",
       "      <td>1</td>\n",
       "      <td>17444633</td>\n",
       "      <td>Marsh</td>\n",
       "      <td>Correy</td>\n",
       "    </tr>\n",
       "    <tr>\n",
       "      <td>2</td>\n",
       "      <td>19330107</td>\n",
       "      <td>Marsh</td>\n",
       "      <td>Khan</td>\n",
       "    </tr>\n",
       "    <tr>\n",
       "      <td>3</td>\n",
       "      <td>19865775</td>\n",
       "      <td>Queen</td>\n",
       "      <td>Khan</td>\n",
       "    </tr>\n",
       "    <tr>\n",
       "      <td>4</td>\n",
       "      <td>11927875</td>\n",
       "      <td>Marsh</td>\n",
       "      <td>Khan</td>\n",
       "    </tr>\n",
       "    <tr>\n",
       "      <td>5</td>\n",
       "      <td>19014606</td>\n",
       "      <td>Marsh</td>\n",
       "      <td>Li</td>\n",
       "    </tr>\n",
       "    <tr>\n",
       "      <td>6</td>\n",
       "      <td>17775191</td>\n",
       "      <td>Queen</td>\n",
       "      <td>Correy</td>\n",
       "    </tr>\n",
       "    <tr>\n",
       "      <td>7</td>\n",
       "      <td>14003692</td>\n",
       "      <td>Marsh</td>\n",
       "      <td>Khan</td>\n",
       "    </tr>\n",
       "    <tr>\n",
       "      <td>8</td>\n",
       "      <td>14255761</td>\n",
       "      <td>Marsh</td>\n",
       "      <td>Khan</td>\n",
       "    </tr>\n",
       "    <tr>\n",
       "      <td>9</td>\n",
       "      <td>13870173</td>\n",
       "      <td>Marsh</td>\n",
       "      <td>Correy</td>\n",
       "    </tr>\n",
       "  </tbody>\n",
       "</table>\n",
       "</div>"
      ],
      "text/plain": [
       "      Votes County Candidate\n",
       "0  12864552  Marsh      Khan\n",
       "1  17444633  Marsh    Correy\n",
       "2  19330107  Marsh      Khan\n",
       "3  19865775  Queen      Khan\n",
       "4  11927875  Marsh      Khan\n",
       "5  19014606  Marsh        Li\n",
       "6  17775191  Queen    Correy\n",
       "7  14003692  Marsh      Khan\n",
       "8  14255761  Marsh      Khan\n",
       "9  13870173  Marsh    Correy"
      ]
     },
     "execution_count": 2,
     "metadata": {},
     "output_type": "execute_result"
    }
   ],
   "source": [
    "# Load in File from resources\n",
    "# PyBank_Data.csv'\n",
    "\n",
    "csvpath = os.path.join(\"Resources\", \"PyBall_Data.csv\")\n",
    "# Import the PyBall_Data.csv file as a DataFrame\n",
    "df = pd.read_csv(csvpath, encoding=\"ISO-8859-1\")\n",
    "# Read and display with pandas\n",
    "df=df.rename(columns={\"Voter ID\": \"Votes\"})\n",
    "df.head(10)\n"
   ]
  },
  {
   "cell_type": "code",
   "execution_count": 3,
   "metadata": {},
   "outputs": [
    {
     "data": {
      "text/plain": [
       "'3,521,001'"
      ]
     },
     "execution_count": 3,
     "metadata": {},
     "output_type": "execute_result"
    }
   ],
   "source": [
    "# The total number of votes cast\n",
    "Total_Voters = len(df['Votes'].value_counts())\n",
    "Total_Voters = format(Total_Voters, ',.0f')\n",
    "Total_Voters\n"
   ]
  },
  {
   "cell_type": "code",
   "execution_count": 4,
   "metadata": {
    "scrolled": false
   },
   "outputs": [
    {
     "data": {
      "text/html": [
       "<div>\n",
       "<style scoped>\n",
       "    .dataframe tbody tr th:only-of-type {\n",
       "        vertical-align: middle;\n",
       "    }\n",
       "\n",
       "    .dataframe tbody tr th {\n",
       "        vertical-align: top;\n",
       "    }\n",
       "\n",
       "    .dataframe thead th {\n",
       "        text-align: right;\n",
       "    }\n",
       "</style>\n",
       "<table border=\"1\" class=\"dataframe\">\n",
       "  <thead>\n",
       "    <tr style=\"text-align: right;\">\n",
       "      <th></th>\n",
       "      <th>Candidate</th>\n",
       "      <th>Votes</th>\n",
       "      <th>County</th>\n",
       "    </tr>\n",
       "  </thead>\n",
       "  <tbody>\n",
       "    <tr>\n",
       "      <td>0</td>\n",
       "      <td>Correy</td>\n",
       "      <td>704200</td>\n",
       "      <td>704200</td>\n",
       "    </tr>\n",
       "    <tr>\n",
       "      <td>1</td>\n",
       "      <td>Khan</td>\n",
       "      <td>2218231</td>\n",
       "      <td>2218231</td>\n",
       "    </tr>\n",
       "    <tr>\n",
       "      <td>2</td>\n",
       "      <td>Li</td>\n",
       "      <td>492940</td>\n",
       "      <td>492940</td>\n",
       "    </tr>\n",
       "    <tr>\n",
       "      <td>3</td>\n",
       "      <td>O'Tooley</td>\n",
       "      <td>105630</td>\n",
       "      <td>105630</td>\n",
       "    </tr>\n",
       "  </tbody>\n",
       "</table>\n",
       "</div>"
      ],
      "text/plain": [
       "  Candidate    Votes   County\n",
       "0    Correy   704200   704200\n",
       "1      Khan  2218231  2218231\n",
       "2        Li   492940   492940\n",
       "3  O'Tooley   105630   105630"
      ]
     },
     "execution_count": 4,
     "metadata": {},
     "output_type": "execute_result"
    }
   ],
   "source": [
    "# A complete list of candidates who received votes\n",
    "grouped = df.groupby(\"Candidate\",as_index=False).count()\n",
    "grouped"
   ]
  },
  {
   "cell_type": "code",
   "execution_count": 39,
   "metadata": {},
   "outputs": [
    {
     "data": {
      "text/html": [
       "<style  type=\"text/css\" >\n",
       "</style><table id=\"T_95d1001a_d658_11e9_9a8c_3af9d3dd950a\" ><thead>    <tr>        <th class=\"blank level0\" ></th>        <th class=\"col_heading level0 col0\" >Candidate</th>        <th class=\"col_heading level0 col1\" >Votes</th>        <th class=\"col_heading level0 col2\" >% of Total</th>    </tr></thead><tbody>\n",
       "                <tr>\n",
       "                        <th id=\"T_95d1001a_d658_11e9_9a8c_3af9d3dd950alevel0_row0\" class=\"row_heading level0 row0\" >0</th>\n",
       "                        <td id=\"T_95d1001a_d658_11e9_9a8c_3af9d3dd950arow0_col0\" class=\"data row0 col0\" >Khan</td>\n",
       "                        <td id=\"T_95d1001a_d658_11e9_9a8c_3af9d3dd950arow0_col1\" class=\"data row0 col1\" >$2,218,231</td>\n",
       "                        <td id=\"T_95d1001a_d658_11e9_9a8c_3af9d3dd950arow0_col2\" class=\"data row0 col2\" >63.00%</td>\n",
       "            </tr>\n",
       "            <tr>\n",
       "                        <th id=\"T_95d1001a_d658_11e9_9a8c_3af9d3dd950alevel0_row1\" class=\"row_heading level0 row1\" >1</th>\n",
       "                        <td id=\"T_95d1001a_d658_11e9_9a8c_3af9d3dd950arow1_col0\" class=\"data row1 col0\" >Correy</td>\n",
       "                        <td id=\"T_95d1001a_d658_11e9_9a8c_3af9d3dd950arow1_col1\" class=\"data row1 col1\" >$704,200</td>\n",
       "                        <td id=\"T_95d1001a_d658_11e9_9a8c_3af9d3dd950arow1_col2\" class=\"data row1 col2\" >20.00%</td>\n",
       "            </tr>\n",
       "            <tr>\n",
       "                        <th id=\"T_95d1001a_d658_11e9_9a8c_3af9d3dd950alevel0_row2\" class=\"row_heading level0 row2\" >2</th>\n",
       "                        <td id=\"T_95d1001a_d658_11e9_9a8c_3af9d3dd950arow2_col0\" class=\"data row2 col0\" >Li</td>\n",
       "                        <td id=\"T_95d1001a_d658_11e9_9a8c_3af9d3dd950arow2_col1\" class=\"data row2 col1\" >$492,940</td>\n",
       "                        <td id=\"T_95d1001a_d658_11e9_9a8c_3af9d3dd950arow2_col2\" class=\"data row2 col2\" >14.00%</td>\n",
       "            </tr>\n",
       "            <tr>\n",
       "                        <th id=\"T_95d1001a_d658_11e9_9a8c_3af9d3dd950alevel0_row3\" class=\"row_heading level0 row3\" >3</th>\n",
       "                        <td id=\"T_95d1001a_d658_11e9_9a8c_3af9d3dd950arow3_col0\" class=\"data row3 col0\" >O'Tooley</td>\n",
       "                        <td id=\"T_95d1001a_d658_11e9_9a8c_3af9d3dd950arow3_col1\" class=\"data row3 col1\" >$105,630</td>\n",
       "                        <td id=\"T_95d1001a_d658_11e9_9a8c_3af9d3dd950arow3_col2\" class=\"data row3 col2\" >3.00%</td>\n",
       "            </tr>\n",
       "    </tbody></table>"
      ],
      "text/plain": [
       "<pandas.io.formats.style.Styler at 0x11ad35240>"
      ]
     },
     "metadata": {},
     "output_type": "display_data"
    }
   ],
   "source": [
    "# The percentage of votes each candidate won\n",
    "# The total number of votes each candidate won\n",
    "\n",
    "grouped = df.groupby([\"Candidate\"])[['Votes']].count()\n",
    "grouped['% of Total'] = grouped.Votes / grouped.Votes.sum()\n",
    "grouped = grouped.sort_values('% of Total',ascending=False)\n",
    "grouped.reset_index(inplace=True)\n",
    "\n",
    "format_dict = {\"Votes\":'${0:,.0f}',\"% of Total\": '{:.2%}'}\n",
    "style=grouped.style.format(format_dict)\n",
    "\n",
    "from IPython.display import display\n",
    "display(style)\n",
    "\n",
    "Khan = grouped.loc[grouped['Candidate'] == \"Khan\", :].to_string(index=False,header=None)\n",
    "Correy = grouped.loc[grouped['Candidate'] == \"Correy\", :].to_string(index=False,header=None)\n",
    "Li = grouped.loc[grouped['Candidate'] == \"Li\", :].to_string(index=False,header=None)\n",
    "OTooley = grouped.loc[grouped['Candidate'] == \"O'Tooley\", :].to_string(index=False,header=None)\n",
    "\n"
   ]
  },
  {
   "cell_type": "code",
   "execution_count": 27,
   "metadata": {},
   "outputs": [
    {
     "data": {
      "text/plain": [
       "'Khan'"
      ]
     },
     "execution_count": 27,
     "metadata": {},
     "output_type": "execute_result"
    }
   ],
   "source": [
    "# The winner of the election based on popular vote.\n",
    "winner = grouped.loc[grouped['Votes'] == grouped['Votes'].max()]\n",
    "winner.reset_index(inplace=True)\n",
    "winner = winner['Candidate'].to_string()\n",
    "winner = winner.split('    ')[1]\n",
    "winner\n"
   ]
  },
  {
   "cell_type": "code",
   "execution_count": 40,
   "metadata": {},
   "outputs": [
    {
     "name": "stdout",
     "output_type": "stream",
     "text": [
      " ===============================\n",
      "        \n",
      "         Election Results:\n",
      "        \n",
      " ===============================\n",
      "        \n",
      " Total Votes: 3,521,001\n",
      "        \n",
      " ===============================\n",
      "        \n",
      " winner: Khan\n",
      "        \n",
      " ===============================\n",
      "         \n",
      "      Results by candidate:\n"
     ]
    },
    {
     "data": {
      "text/html": [
       "<style  type=\"text/css\" >\n",
       "</style><table id=\"T_995905a2_d658_11e9_9883_3af9d3dd950a\" ><thead>    <tr>        <th class=\"blank level0\" ></th>        <th class=\"col_heading level0 col0\" >Candidate</th>        <th class=\"col_heading level0 col1\" >Votes</th>        <th class=\"col_heading level0 col2\" >% of Total</th>    </tr></thead><tbody>\n",
       "                <tr>\n",
       "                        <th id=\"T_995905a2_d658_11e9_9883_3af9d3dd950alevel0_row0\" class=\"row_heading level0 row0\" >0</th>\n",
       "                        <td id=\"T_995905a2_d658_11e9_9883_3af9d3dd950arow0_col0\" class=\"data row0 col0\" >Khan</td>\n",
       "                        <td id=\"T_995905a2_d658_11e9_9883_3af9d3dd950arow0_col1\" class=\"data row0 col1\" >$2,218,231</td>\n",
       "                        <td id=\"T_995905a2_d658_11e9_9883_3af9d3dd950arow0_col2\" class=\"data row0 col2\" >63.00%</td>\n",
       "            </tr>\n",
       "            <tr>\n",
       "                        <th id=\"T_995905a2_d658_11e9_9883_3af9d3dd950alevel0_row1\" class=\"row_heading level0 row1\" >1</th>\n",
       "                        <td id=\"T_995905a2_d658_11e9_9883_3af9d3dd950arow1_col0\" class=\"data row1 col0\" >Correy</td>\n",
       "                        <td id=\"T_995905a2_d658_11e9_9883_3af9d3dd950arow1_col1\" class=\"data row1 col1\" >$704,200</td>\n",
       "                        <td id=\"T_995905a2_d658_11e9_9883_3af9d3dd950arow1_col2\" class=\"data row1 col2\" >20.00%</td>\n",
       "            </tr>\n",
       "            <tr>\n",
       "                        <th id=\"T_995905a2_d658_11e9_9883_3af9d3dd950alevel0_row2\" class=\"row_heading level0 row2\" >2</th>\n",
       "                        <td id=\"T_995905a2_d658_11e9_9883_3af9d3dd950arow2_col0\" class=\"data row2 col0\" >Li</td>\n",
       "                        <td id=\"T_995905a2_d658_11e9_9883_3af9d3dd950arow2_col1\" class=\"data row2 col1\" >$492,940</td>\n",
       "                        <td id=\"T_995905a2_d658_11e9_9883_3af9d3dd950arow2_col2\" class=\"data row2 col2\" >14.00%</td>\n",
       "            </tr>\n",
       "            <tr>\n",
       "                        <th id=\"T_995905a2_d658_11e9_9883_3af9d3dd950alevel0_row3\" class=\"row_heading level0 row3\" >3</th>\n",
       "                        <td id=\"T_995905a2_d658_11e9_9883_3af9d3dd950arow3_col0\" class=\"data row3 col0\" >O'Tooley</td>\n",
       "                        <td id=\"T_995905a2_d658_11e9_9883_3af9d3dd950arow3_col1\" class=\"data row3 col1\" >$105,630</td>\n",
       "                        <td id=\"T_995905a2_d658_11e9_9883_3af9d3dd950arow3_col2\" class=\"data row3 col2\" >3.00%</td>\n",
       "            </tr>\n",
       "    </tbody></table>"
      ],
      "text/plain": [
       "<pandas.io.formats.style.Styler at 0x11ad35240>"
      ]
     },
     "metadata": {},
     "output_type": "display_data"
    }
   ],
   "source": [
    "print(f''' ===============================\n",
    "        \\n         Election Results:\n",
    "        \\n ===============================\n",
    "        \\n Total Votes: {Total_Voters}\n",
    "        \\n ===============================\n",
    "        \\n winner: {winner}\n",
    "        \\n ===============================\n",
    "         \\n      Results by candidate:''')\n",
    "    \n",
    "from IPython.display import display\n",
    "display(style)"
   ]
  },
  {
   "cell_type": "code",
   "execution_count": 42,
   "metadata": {},
   "outputs": [],
   "source": [
    "\n",
    "file = \"PyBall.csv\" \n",
    "f = open('PayBall.csv','w')\n",
    "f.write(\"===============================\")\n",
    "f.write(\"\\n         Election Results:\")\n",
    "f.write(\"\\n ===============================\")\n",
    "f.write(\"\\n Total Votes:\"+ Total_Voters +\"   \" )  \n",
    "f.write(\"\\n ===============================\")\n",
    "f.write(\"\\n winner: \" + winner)\n",
    "f.write(\"\\n ===============================\")\n",
    "f.write(\"\\n      Results by candidate:\")\n",
    "f.write(\"\\n\"+Khan)\n",
    "f.write(\"\\n\"+Correy)\n",
    "f.write(\"\\n\"+Li)\n",
    "f.write(\"\\n\"+OTooley)\n",
    "\n",
    "\n",
    "f.close()\n",
    "\n"
   ]
  }
 ],
 "metadata": {
  "kernelspec": {
   "display_name": "Python 3",
   "language": "python",
   "name": "python3"
  },
  "language_info": {
   "codemirror_mode": {
    "name": "ipython",
    "version": 3
   },
   "file_extension": ".py",
   "mimetype": "text/x-python",
   "name": "python",
   "nbconvert_exporter": "python",
   "pygments_lexer": "ipython3",
   "version": "3.6.9"
  }
 },
 "nbformat": 4,
 "nbformat_minor": 2
}
