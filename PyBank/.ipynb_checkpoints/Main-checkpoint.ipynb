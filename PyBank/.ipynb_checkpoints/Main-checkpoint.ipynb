{
 "cells": [
  {
   "cell_type": "code",
   "execution_count": 35,
   "metadata": {},
   "outputs": [],
   "source": [
    "# Dependencies\n",
    "import pandas as pd\n",
    "import locale\n",
    "import os"
   ]
  },
  {
   "cell_type": "code",
   "execution_count": 36,
   "metadata": {},
   "outputs": [
    {
     "data": {
      "text/html": [
       "<div>\n",
       "<style scoped>\n",
       "    .dataframe tbody tr th:only-of-type {\n",
       "        vertical-align: middle;\n",
       "    }\n",
       "\n",
       "    .dataframe tbody tr th {\n",
       "        vertical-align: top;\n",
       "    }\n",
       "\n",
       "    .dataframe thead th {\n",
       "        text-align: right;\n",
       "    }\n",
       "</style>\n",
       "<table border=\"1\" class=\"dataframe\">\n",
       "  <thead>\n",
       "    <tr style=\"text-align: right;\">\n",
       "      <th></th>\n",
       "      <th>Date</th>\n",
       "      <th>Profit/Losses</th>\n",
       "    </tr>\n",
       "  </thead>\n",
       "  <tbody>\n",
       "    <tr>\n",
       "      <td>0</td>\n",
       "      <td>Jan-2010</td>\n",
       "      <td>867884</td>\n",
       "    </tr>\n",
       "    <tr>\n",
       "      <td>1</td>\n",
       "      <td>Feb-2010</td>\n",
       "      <td>984655</td>\n",
       "    </tr>\n",
       "    <tr>\n",
       "      <td>2</td>\n",
       "      <td>Mar-2010</td>\n",
       "      <td>322013</td>\n",
       "    </tr>\n",
       "    <tr>\n",
       "      <td>3</td>\n",
       "      <td>Apr-2010</td>\n",
       "      <td>-69417</td>\n",
       "    </tr>\n",
       "    <tr>\n",
       "      <td>4</td>\n",
       "      <td>May-2010</td>\n",
       "      <td>310503</td>\n",
       "    </tr>\n",
       "    <tr>\n",
       "      <td>5</td>\n",
       "      <td>Jun-2010</td>\n",
       "      <td>522857</td>\n",
       "    </tr>\n",
       "    <tr>\n",
       "      <td>6</td>\n",
       "      <td>Jul-2010</td>\n",
       "      <td>1033096</td>\n",
       "    </tr>\n",
       "    <tr>\n",
       "      <td>7</td>\n",
       "      <td>Aug-2010</td>\n",
       "      <td>604885</td>\n",
       "    </tr>\n",
       "    <tr>\n",
       "      <td>8</td>\n",
       "      <td>Sep-2010</td>\n",
       "      <td>-216386</td>\n",
       "    </tr>\n",
       "    <tr>\n",
       "      <td>9</td>\n",
       "      <td>Oct-2010</td>\n",
       "      <td>477532</td>\n",
       "    </tr>\n",
       "  </tbody>\n",
       "</table>\n",
       "</div>"
      ],
      "text/plain": [
       "       Date  Profit/Losses\n",
       "0  Jan-2010         867884\n",
       "1  Feb-2010         984655\n",
       "2  Mar-2010         322013\n",
       "3  Apr-2010         -69417\n",
       "4  May-2010         310503\n",
       "5  Jun-2010         522857\n",
       "6  Jul-2010        1033096\n",
       "7  Aug-2010         604885\n",
       "8  Sep-2010        -216386\n",
       "9  Oct-2010         477532"
      ]
     },
     "execution_count": 36,
     "metadata": {},
     "output_type": "execute_result"
    }
   ],
   "source": [
    "# Load in File from resources\n",
    "# PyBank_Data.csv'\n",
    "\n",
    "csvpath = os.path.join(\"Resources\", \"PyBank_Data.csv\")\n",
    "# Import the PyBank_Data.csv file as a DataFrame\n",
    "df = pd.read_csv(csvpath, encoding=\"ISO-8859-1\")\n",
    "# Read and display with pandas\n",
    "df.head(10)"
   ]
  },
  {
   "cell_type": "code",
   "execution_count": 37,
   "metadata": {},
   "outputs": [
    {
     "data": {
      "text/plain": [
       "86"
      ]
     },
     "execution_count": 37,
     "metadata": {},
     "output_type": "execute_result"
    }
   ],
   "source": [
    "# The total number of months included in the dataset\n",
    "\n",
    "Total_Months = len(df['Date'].value_counts())\n",
    "Total_Months"
   ]
  },
  {
   "cell_type": "code",
   "execution_count": 38,
   "metadata": {},
   "outputs": [],
   "source": [
    "# The net total amount of \"Profit/Losses\" over the entire period\n",
    "\n",
    "Total_Profit = df['Profit/Losses'].sum()\n",
    "Total_Profit = ('$' + format(Total_Profit, ',.2f'))"
   ]
  },
  {
   "cell_type": "code",
   "execution_count": 39,
   "metadata": {},
   "outputs": [],
   "source": [
    "#df = df.set_index('Date')\n",
    "#df.head()"
   ]
  },
  {
   "cell_type": "code",
   "execution_count": 40,
   "metadata": {},
   "outputs": [],
   "source": [
    "# The average of the changes in \"Profit/Losses\" over the entire pe#riod\n",
    "df['OTM'] = df['Profit/Losses'] - df['Profit/Losses'].shift(1)\n",
    "#df['OTY'] = df['Profit/Losses'] - df['Profit/Losses'].shift(12)\n",
    "average_OTM_change = df['OTM'].mean()\n",
    "average_OTM_change = ('$' + format(average_OTM_change, ',.2f'))\n",
    "#average_OTY_change = df['OTY'].mean()\n",
    "#average_OTY_change"
   ]
  },
  {
   "cell_type": "code",
   "execution_count": 62,
   "metadata": {},
   "outputs": [],
   "source": [
    "# The greatest increase in profits (date and amount) over the entire period\n",
    "Max_change = df['OTM'].max()\n",
    "date_max = df.loc[df['OTM'] == Max_change, 'Date'].to_string()\n",
    "date_max=(date_max.split(' ', ))\n",
    "date_max=date_max[4]\n",
    "Max_change = ('$' + format(Max_change, ',.2f'))\n",
    "Max = date_max + '   ' + Max_change\n"
   ]
  },
  {
   "cell_type": "code",
   "execution_count": 63,
   "metadata": {},
   "outputs": [],
   "source": [
    "# The greatest decrease in losses (date and amount) over the entire period\n",
    "Min_change = df['OTM'].min()\n",
    "date_min = df.loc[df['OTM'] == Min_change, 'Date'].to_string()\n",
    "date_min=(date_min.split(' ', ))\n",
    "date_min=date_min[4]\n",
    "Min_change = ('$' + format(Min_change, ',.2f'))\n",
    "Min = date_min + '   ' + Min_change\n"
   ]
  },
  {
   "cell_type": "code",
   "execution_count": 64,
   "metadata": {},
   "outputs": [
    {
     "data": {
      "text/plain": [
       "{'Total Months': 86,\n",
       " 'Total Profits': '$38,382,578.00',\n",
       " 'Average Monthly Change': '$-2,315.12',\n",
       " 'Greatest Monhtly Increase': 'Feb-2012   $1,926,159.00',\n",
       " 'Greatest Monthly decrease': 'Sep-2013   $-2,196,167.00'}"
      ]
     },
     "execution_count": 64,
     "metadata": {},
     "output_type": "execute_result"
    }
   ],
   "source": [
    "Results = {'Total Months':int(Total_Months),\n",
    "          'Total Profits':Total_Profit,\n",
    "           'Average Monthly Change':average_OTM_change,\n",
    "           'Greatest Monhtly Increase':Max,\n",
    "           'Greatest Monthly decrease':Min\n",
    "          }\n",
    "Results"
   ]
  },
  {
   "cell_type": "code",
   "execution_count": 67,
   "metadata": {
    "scrolled": false
   },
   "outputs": [
    {
     "data": {
      "text/html": [
       "<div>\n",
       "<style scoped>\n",
       "    .dataframe tbody tr th:only-of-type {\n",
       "        vertical-align: middle;\n",
       "    }\n",
       "\n",
       "    .dataframe tbody tr th {\n",
       "        vertical-align: top;\n",
       "    }\n",
       "\n",
       "    .dataframe thead th {\n",
       "        text-align: right;\n",
       "    }\n",
       "</style>\n",
       "<table border=\"1\" class=\"dataframe\">\n",
       "  <thead>\n",
       "    <tr style=\"text-align: right;\">\n",
       "      <th></th>\n",
       "      <th>Finnacial Summary</th>\n",
       "    </tr>\n",
       "  </thead>\n",
       "  <tbody>\n",
       "    <tr>\n",
       "      <td>Total Months</td>\n",
       "      <td>86</td>\n",
       "    </tr>\n",
       "    <tr>\n",
       "      <td>Total Profits</td>\n",
       "      <td>$38,382,578.00</td>\n",
       "    </tr>\n",
       "    <tr>\n",
       "      <td>Average Monthly Change</td>\n",
       "      <td>$-2,315.12</td>\n",
       "    </tr>\n",
       "    <tr>\n",
       "      <td>Greatest Monhtly Increase</td>\n",
       "      <td>Feb-2012   $1,926,159.00</td>\n",
       "    </tr>\n",
       "    <tr>\n",
       "      <td>Greatest Monthly decrease</td>\n",
       "      <td>Sep-2013   $-2,196,167.00</td>\n",
       "    </tr>\n",
       "  </tbody>\n",
       "</table>\n",
       "</div>"
      ],
      "text/plain": [
       "                                   Finnacial Summary\n",
       "Total Months                                      86\n",
       "Total Profits                         $38,382,578.00\n",
       "Average Monthly Change                    $-2,315.12\n",
       "Greatest Monhtly Increase   Feb-2012   $1,926,159.00\n",
       "Greatest Monthly decrease  Sep-2013   $-2,196,167.00"
      ]
     },
     "execution_count": 67,
     "metadata": {},
     "output_type": "execute_result"
    }
   ],
   "source": [
    "df_final=pd.DataFrame.from_dict(Results,orient='index', columns=['Finnacial Summary'])\n",
    "df_final"
   ]
  },
  {
   "cell_type": "code",
   "execution_count": 69,
   "metadata": {},
   "outputs": [],
   "source": [
    "df_final.to_csv(\"PyBank_Summary.csv\", index=True, header=True)"
   ]
  }
 ],
 "metadata": {
  "kernelspec": {
   "display_name": "Python 3",
   "language": "python",
   "name": "python3"
  },
  "language_info": {
   "codemirror_mode": {
    "name": "ipython",
    "version": 3
   },
   "file_extension": ".py",
   "mimetype": "text/x-python",
   "name": "python",
   "nbconvert_exporter": "python",
   "pygments_lexer": "ipython3",
   "version": "3.6.9"
  }
 },
 "nbformat": 4,
 "nbformat_minor": 2
}
